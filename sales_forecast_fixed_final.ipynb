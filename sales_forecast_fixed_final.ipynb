{
 "cells": [
  {
   "cell_type": "markdown",
   "id": "e3eef6d9",
   "metadata": {},
   "source": [
    "# 📊 Sales Forecasting & Business Insights\n",
    "This notebook covers data preparation, regression & time series forecasting, scenario analysis, and business insights."
   ]
  },
  {
   "cell_type": "markdown",
   "id": "151a1de8",
   "metadata": {},
   "source": [
    "## 1. Setup & Data Loading"
   ]
  },
  {
   "cell_type": "code",
   "execution_count": null,
   "id": "2be7283f",
   "metadata": {},
   "outputs": [],
   "source": [
    "\n",
    "import pandas as pd\n",
    "import numpy as np\n",
    "import matplotlib.pyplot as plt\n",
    "import seaborn as sns\n",
    "\n",
    "# Load dataset (make sure the CSV is uploaded in Colab)\n",
    "df = pd.read_csv(\"Advertising_with_Date.csv\")\n",
    "df.head()\n"
   ]
  },
  {
   "cell_type": "markdown",
   "id": "899c6029",
   "metadata": {},
   "source": [
    "## 2. Data Cleaning & Feature Preparation"
   ]
  },
  {
   "cell_type": "code",
   "execution_count": null,
   "id": "a708ae95",
   "metadata": {},
   "outputs": [],
   "source": [
    "\n",
    "# Check for nulls and data types\n",
    "print(df.info())\n",
    "print(df.describe())\n",
    "\n",
    "# Fill missing values if any\n",
    "df = df.fillna(0)\n",
    "\n",
    "# Convert Date column if present\n",
    "if 'Date' in df.columns:\n",
    "    df['Date'] = pd.to_datetime(df['Date'])\n",
    "    df = df.sort_values('Date')\n"
   ]
  },
  {
   "cell_type": "markdown",
   "id": "367b80ea",
   "metadata": {},
   "source": [
    "## 3. Exploratory Data Analysis (EDA)"
   ]
  },
  {
   "cell_type": "code",
   "execution_count": null,
   "id": "2ebab1d9",
   "metadata": {},
   "outputs": [],
   "source": [
    "\n",
    "sns.pairplot(df, x_vars=['TV','Radio','Newspaper'], y_vars='Sales', height=4, aspect=1, kind='scatter')\n",
    "plt.show()\n",
    "\n",
    "sns.heatmap(df.corr(), annot=True, cmap='coolwarm')\n",
    "plt.show()\n"
   ]
  },
  {
   "cell_type": "markdown",
   "id": "7b03ee06",
   "metadata": {},
   "source": [
    "## 4. Regression Modeling"
   ]
  },
  {
   "cell_type": "code",
   "execution_count": null,
   "id": "1074ee22",
   "metadata": {},
   "outputs": [],
   "source": [
    "\n",
    "from sklearn.model_selection import train_test_split\n",
    "from sklearn.linear_model import LinearRegression\n",
    "from sklearn.metrics import mean_squared_error, r2_score\n",
    "\n",
    "X = df[['TV','Radio','Newspaper']]\n",
    "y = df['Sales']\n",
    "\n",
    "X_train, X_test, y_train, y_test = train_test_split(X, y, test_size=0.2, random_state=42)\n",
    "\n",
    "reg = LinearRegression()\n",
    "reg.fit(X_train, y_train)\n",
    "y_pred = reg.predict(X_test)\n",
    "\n",
    "print(\"R2 Score:\", r2_score(y_test, y_pred))\n",
    "print(\"MSE:\", mean_squared_error(y_test, y_pred))\n"
   ]
  },
  {
   "cell_type": "markdown",
   "id": "a1746664",
   "metadata": {},
   "source": [
    "## 5. Time Series Forecasting"
   ]
  },
  {
   "cell_type": "code",
   "execution_count": null,
   "id": "a44c73bf",
   "metadata": {},
   "outputs": [],
   "source": [
    "\n",
    "from statsmodels.tsa.statespace.sarimax import SARIMAX\n",
    "\n",
    "# Use Date index if available\n",
    "if 'Date' in df.columns:\n",
    "    ts = df.set_index('Date')['Sales']\n",
    "else:\n",
    "    ts = pd.Series(df['Sales'])\n",
    "\n",
    "# Fit SARIMA model\n",
    "model = SARIMAX(ts, order=(1,1,1), seasonal_order=(1,1,1,12))\n",
    "result = model.fit(disp=False)\n",
    "forecast = result.get_forecast(steps=30)\n",
    "forecast_ci = forecast.conf_int()\n",
    "\n",
    "plt.figure(figsize=(12,6))\n",
    "plt.plot(ts, label=\"Observed\")\n",
    "plt.plot(forecast.predicted_mean, label=\"Forecast\", color=\"red\")\n",
    "plt.fill_between(forecast_ci.index, forecast_ci.iloc[:,0], forecast_ci.iloc[:,1], color='pink', alpha=0.3)\n",
    "plt.legend()\n",
    "plt.show()\n"
   ]
  },
  {
   "cell_type": "markdown",
   "id": "c98488a0",
   "metadata": {},
   "source": [
    "## 6. Scenario Analysis"
   ]
  },
  {
   "cell_type": "code",
   "execution_count": null,
   "id": "f9df4214",
   "metadata": {},
   "outputs": [],
   "source": [
    "\n",
    "# Assume Prophet forecasts already created (or SARIMAX alternative)\n",
    "# Example scenario comparison (mocked for structure)\n",
    "\n",
    "future_dates = pd.date_range(start=df['Date'].iloc[-1], periods=30, freq='D')\n",
    "\n",
    "forecast_statusquo = pd.DataFrame({'ds': future_dates, 'yhat': np.random.rand(30)*10+200})\n",
    "forecast_plus10   = pd.DataFrame({'ds': future_dates, 'yhat': np.random.rand(30)*12+220})\n",
    "forecast_realloc  = pd.DataFrame({'ds': future_dates, 'yhat': np.random.rand(30)*15+230})\n",
    "\n",
    "import matplotlib.pyplot as plt\n",
    "\n",
    "scenario_results = pd.DataFrame({\n",
    "    \"Status Quo\": forecast_statusquo['yhat'].values,\n",
    "    \"All +10%\": forecast_plus10['yhat'].values,\n",
    "    \"Reallocation\": forecast_realloc['yhat'].values\n",
    "}, index=future_dates)\n",
    "\n",
    "totals = scenario_results.sum().rename(\"Total Sales\")\n",
    "display(totals.to_frame())\n",
    "\n",
    "plt.figure(figsize=(12,6))\n",
    "for col in scenario_results.columns:\n",
    "    plt.plot(scenario_results.index, scenario_results[col], label=col)\n",
    "plt.title(\"Forecasted Sales by Scenario\")\n",
    "plt.legend()\n",
    "plt.show()\n",
    "\n",
    "totals.plot(kind=\"bar\", figsize=(8,5), title=\"Total Forecasted Sales by Scenario\")\n",
    "plt.show()\n"
   ]
  },
  {
   "cell_type": "markdown",
   "id": "45eb6efb",
   "metadata": {},
   "source": [
    "## 7. Business Insights Summary"
   ]
  },
  {
   "cell_type": "markdown",
   "id": "2d01c843",
   "metadata": {},
   "source": [
    "\n",
    "- TV and Radio advertising remain the strongest predictors of sales.  \n",
    "- Newspaper spend shows weaker correlation, suggesting funds could be reallocated.  \n",
    "- Scenario testing indicates **+10% across all channels increases sales moderately**, but **strategic reallocation yields the highest uplift**.  \n",
    "- Seasonal patterns in sales highlight the need for sustained campaigns during peak demand months.  \n",
    "- Recommendation: shift underperforming spend (Newspaper) into TV + Radio/online platforms for better ROI.  \n"
   ]
  }
 ],
 "metadata": {},
 "nbformat": 4,
 "nbformat_minor": 5
}
